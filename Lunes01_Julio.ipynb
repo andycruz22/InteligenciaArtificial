{
  "nbformat": 4,
  "nbformat_minor": 0,
  "metadata": {
    "colab": {
      "provenance": [],
      "include_colab_link": true
    },
    "kernelspec": {
      "name": "python3",
      "display_name": "Python 3"
    },
    "language_info": {
      "name": "python"
    }
  },
  "cells": [
    {
      "cell_type": "markdown",
      "metadata": {
        "id": "view-in-github",
        "colab_type": "text"
      },
      "source": [
        "<a href=\"https://colab.research.google.com/github/andycruz22/InteligenciaArtificial/blob/main/Lunes01_Julio.ipynb\" target=\"_parent\"><img src=\"https://colab.research.google.com/assets/colab-badge.svg\" alt=\"Open In Colab\"/></a>"
      ]
    },
    {
      "cell_type": "code",
      "execution_count": null,
      "metadata": {
        "colab": {
          "base_uri": "https://localhost:8080/"
        },
        "id": "Oo69ZPOA85vl",
        "outputId": "fb4c0e49-3188-4c1e-c155-1dd5484fd743"
      },
      "outputs": [
        {
          "output_type": "stream",
          "name": "stdout",
          "text": [
            "(3,)\n",
            "<class 'numpy.ndarray'>\n",
            "[11 22 33]\n",
            "[11 22]\n",
            "[22 33]\n",
            "[11 88 33]\n"
          ]
        }
      ],
      "source": [
        "import numpy as algebraLineal\n",
        "\n",
        "\n",
        "a = algebraLineal.array([11,22,33])\n",
        "print(a.shape)\n",
        "print(type(a))\n",
        "print(a)\n",
        "\n",
        "print(a[:2])\n",
        "print(a[1:3])\n",
        "\n",
        "\n",
        "a[1]=88\n",
        "print(a)\n"
      ]
    },
    {
      "cell_type": "code",
      "source": [
        "from re import sub\n",
        "#dos dimensiones\n",
        "\n",
        "import numpy as np\n",
        "\n",
        "b=np.array([[1,2,3],[11,22,33], [111,222,333]])\n",
        "print(b.shape)\n",
        "print(type(b))\n",
        "print(b)\n",
        "\n",
        "print(b[1,1])\n",
        "\n",
        "submatriz = b[1:3, 1:3].copy()\n",
        "print(submatriz.shape)\n",
        "print(\"antes\")\n",
        "print(submatriz)\n",
        "\n",
        "submatriz[1]=88\n",
        "print(\"despues\")\n",
        "print(submatriz)\n",
        "print(b)\n",
        "\n"
      ],
      "metadata": {
        "colab": {
          "base_uri": "https://localhost:8080/"
        },
        "id": "pjW29Q39AbB9",
        "outputId": "c8e7e863-08ee-4241-9bf5-1ad5871e10be"
      },
      "execution_count": null,
      "outputs": [
        {
          "output_type": "stream",
          "name": "stdout",
          "text": [
            "(3, 3)\n",
            "<class 'numpy.ndarray'>\n",
            "[[  1   2   3]\n",
            " [ 11  22  33]\n",
            " [111 222 333]]\n",
            "22\n",
            "(2, 2)\n",
            "antes\n",
            "[[ 22  33]\n",
            " [222 333]]\n",
            "despues\n",
            "[[22 33]\n",
            " [88 88]]\n",
            "[[  1   2   3]\n",
            " [ 11  22  33]\n",
            " [111 222 333]]\n"
          ]
        }
      ]
    },
    {
      "cell_type": "markdown",
      "source": [],
      "metadata": {
        "id": "BNbT2RL74qon"
      }
    },
    {
      "cell_type": "code",
      "source": [
        "#matriz de dos dimensiones con el modulo zero\n",
        "import numpy as np\n",
        "\n",
        "c=np.zeros((4,4))\n",
        "print(c)\n",
        "print(c.shape)\n",
        "d=np.full((4,4),9)\n",
        "print(d)\n",
        "\n"
      ],
      "metadata": {
        "colab": {
          "base_uri": "https://localhost:8080/"
        },
        "id": "vzTYYf1IDsFs",
        "outputId": "9d07a6a8-004f-4b78-ca4b-65aff9ace55f"
      },
      "execution_count": null,
      "outputs": [
        {
          "output_type": "stream",
          "name": "stdout",
          "text": [
            "[[0. 0. 0. 0.]\n",
            " [0. 0. 0. 0.]\n",
            " [0. 0. 0. 0.]\n",
            " [0. 0. 0. 0.]]\n",
            "(4, 4)\n",
            "[[9 9 9 9]\n",
            " [9 9 9 9]\n",
            " [9 9 9 9]\n",
            " [9 9 9 9]]\n"
          ]
        }
      ]
    },
    {
      "cell_type": "code",
      "source": [
        "#matriz con la diagonal que tenga como elemento la unidad\n",
        "\n",
        "e=np.eye(3,3)\n",
        "print(e)\n",
        "\n",
        "f=np.ones((4,5))\n",
        "print(f)"
      ],
      "metadata": {
        "colab": {
          "base_uri": "https://localhost:8080/"
        },
        "id": "E7U1XY6QEZz9",
        "outputId": "03cbdc09-e239-46bb-db7b-bde044dee0b5"
      },
      "execution_count": null,
      "outputs": [
        {
          "output_type": "stream",
          "name": "stdout",
          "text": [
            "[[1. 0. 0.]\n",
            " [0. 1. 0.]\n",
            " [0. 0. 1.]]\n",
            "[[1. 1. 1. 1. 1.]\n",
            " [1. 1. 1. 1. 1.]\n",
            " [1. 1. 1. 1. 1.]\n",
            " [1. 1. 1. 1. 1.]]\n"
          ]
        }
      ]
    },
    {
      "cell_type": "code",
      "source": [
        "g=np.random.random((5,5))\n",
        "print(g)\n",
        "\n",
        "#crear una matriz aleatoria que solo contenga elementos enteros, sea de 4x3 y que contenga solo numeros hasta el 20\n",
        "\n",
        "matriz_aleatoria = np.random.randint(1, 21, size=(4, 3))\n",
        "print(matriz_aleatoria)"
      ],
      "metadata": {
        "colab": {
          "base_uri": "https://localhost:8080/"
        },
        "id": "nRCyCupmFAtk",
        "outputId": "d91259a9-f0e5-4007-d574-b87e8bf8db5d"
      },
      "execution_count": null,
      "outputs": [
        {
          "output_type": "stream",
          "name": "stdout",
          "text": [
            "[[0.81182233 0.40386305 0.64400644 0.61884935 0.83605565]\n",
            " [0.35315838 0.40822457 0.39924592 0.25205013 0.29873991]\n",
            " [0.3369747  0.48174055 0.01928524 0.52648824 0.29222692]\n",
            " [0.15226414 0.01641039 0.58324888 0.6585757  0.52556635]\n",
            " [0.70235012 0.39173836 0.24776439 0.09838007 0.70546413]]\n",
            "[[17 14 16]\n",
            " [ 8 20  2]\n",
            " [ 7 13 12]\n",
            " [ 3 12 20]]\n"
          ]
        }
      ]
    },
    {
      "cell_type": "code",
      "source": [
        "tmp1=np.random.randint(1,20, (4,4))\n",
        "print(tmp1)\n",
        "\n",
        "rows=np.array([0,1,2,0])\n",
        "cols=np.arange(4)\n",
        "\n",
        "print(rows)\n",
        "print(cols)\n",
        "\n"
      ],
      "metadata": {
        "colab": {
          "base_uri": "https://localhost:8080/"
        },
        "id": "F5KY4FK6Fprw",
        "outputId": "fc8369c1-be26-486f-ccef-0182c39735fe"
      },
      "execution_count": null,
      "outputs": [
        {
          "output_type": "stream",
          "name": "stdout",
          "text": [
            "[[ 3 14 16 14]\n",
            " [16  5  7 14]\n",
            " [14  5  6 19]\n",
            " [14  6 17  1]]\n",
            "[0 1 2 0]\n",
            "[0 1 2 3]\n"
          ]
        }
      ]
    },
    {
      "cell_type": "code",
      "source": [
        "tmp1[rows, cols]=100\n",
        "print(tmp1)\n"
      ],
      "metadata": {
        "colab": {
          "base_uri": "https://localhost:8080/"
        },
        "id": "goHMfdVJJeqF",
        "outputId": "8c2196f0-05f4-4713-d5e6-71de51738a3b"
      },
      "execution_count": null,
      "outputs": [
        {
          "output_type": "stream",
          "name": "stdout",
          "text": [
            "[[100   5  19 100]\n",
            " [ 15 100  12   2]\n",
            " [ 12   2 100   4]\n",
            " [ 11  12   9   5]]\n"
          ]
        }
      ]
    },
    {
      "cell_type": "code",
      "source": [
        "#Matriz aleatoria de 6x6 pero que los elementos sean del 20 al 50\n",
        "\n",
        "\n",
        "tmp1=np.random.randint(20,50, (6,6))\n",
        "print(tmp1)\n"
      ],
      "metadata": {
        "colab": {
          "base_uri": "https://localhost:8080/"
        },
        "id": "7W8deNiLKHPk",
        "outputId": "858493a7-d023-4104-f89b-506b8ef23fd4"
      },
      "execution_count": null,
      "outputs": [
        {
          "output_type": "stream",
          "name": "stdout",
          "text": [
            "[[26 43 35 47 42 43]\n",
            " [40 42 42 27 44 26]\n",
            " [30 42 27 21 24 31]\n",
            " [27 49 48 27 31 49]\n",
            " [48 46 49 47 31 40]\n",
            " [40 35 32 36 42 49]]\n"
          ]
        }
      ]
    },
    {
      "cell_type": "code",
      "source": [
        "\n",
        "filter = (tmp1 > 45)\n",
        "print(filter)\n",
        "print(tmp1[filter])\n",
        "\n"
      ],
      "metadata": {
        "colab": {
          "base_uri": "https://localhost:8080/"
        },
        "id": "pB_3yG_NKiH0",
        "outputId": "17517ef9-e680-4218-e021-23c3160c8d55"
      },
      "execution_count": null,
      "outputs": [
        {
          "output_type": "stream",
          "name": "stdout",
          "text": [
            "[[False False False  True False False]\n",
            " [False False False False False False]\n",
            " [False False False False False False]\n",
            " [False  True  True False False  True]\n",
            " [ True  True  True  True False False]\n",
            " [False False False False False  True]]\n",
            "[47 49 48 49 48 46 49 47 49]\n"
          ]
        }
      ]
    },
    {
      "cell_type": "code",
      "source": [
        "#imprimir los números pares, los rangos pueden ser del 1 al 100\n",
        "\n",
        "tmp1=np.random.randint(1,100, (10,10))\n",
        "print(tmp1)"
      ],
      "metadata": {
        "colab": {
          "base_uri": "https://localhost:8080/"
        },
        "id": "TKoW3B5fMXNt",
        "outputId": "db59cbd3-3ce6-4dee-b8e4-cb0b8ed734a3"
      },
      "execution_count": null,
      "outputs": [
        {
          "output_type": "stream",
          "name": "stdout",
          "text": [
            "[[ 4 28 76 53 97 98 44 33 55 21]\n",
            " [91 81 80 79 63 93 82 83 27 85]\n",
            " [80 42  4 26 54 84  1 95 62 74]\n",
            " [40 28 10 40 91 74 18 44  5 53]\n",
            " [65 20 63 62 38 66  4 49 89 87]\n",
            " [14 50 16 21 25 57 16 78 94 35]\n",
            " [79 47 44 83 90 93 50 90 96 67]\n",
            " [98 37 63 81 76 36 35 19 17 52]\n",
            " [18 22 76 18 25 91 98 95 19 74]\n",
            " [87 19 99 29 29  8 69  6 41 94]]\n"
          ]
        }
      ]
    },
    {
      "cell_type": "code",
      "source": [
        "filter = (tmp1%2==0)\n",
        "print(filter)\n",
        "print(tmp1[filter])"
      ],
      "metadata": {
        "colab": {
          "base_uri": "https://localhost:8080/"
        },
        "id": "ln-uYuQMMuUb",
        "outputId": "41d78e28-48ef-43f4-8a5a-12deac1be508"
      },
      "execution_count": null,
      "outputs": [
        {
          "output_type": "stream",
          "name": "stdout",
          "text": [
            "[[ True  True  True False False  True  True False False False]\n",
            " [False False  True False False False  True False False False]\n",
            " [ True  True  True  True  True  True False False  True  True]\n",
            " [ True  True  True  True False  True  True  True False False]\n",
            " [False  True False  True  True  True  True False False False]\n",
            " [ True  True  True False False False  True  True  True False]\n",
            " [False False  True False  True False  True  True  True False]\n",
            " [ True False False False  True  True False False False  True]\n",
            " [ True  True  True  True False False  True False False  True]\n",
            " [False False False False False  True False  True False  True]]\n",
            "[ 4 28 76 98 44 80 82 80 42  4 26 54 84 62 74 40 28 10 40 74 18 44 20 62\n",
            " 38 66  4 14 50 16 16 78 94 44 90 50 90 96 98 76 36 52 18 22 76 18 98 74\n",
            "  8  6 94]\n"
          ]
        }
      ]
    },
    {
      "cell_type": "code",
      "source": [
        "tmp3 = np.array([1,2,3,4,5],dtype=np.float64)\n",
        "print(tmp3.dtype)"
      ],
      "metadata": {
        "colab": {
          "base_uri": "https://localhost:8080/"
        },
        "id": "mU-n8f6xOddL",
        "outputId": "bddffc74-27fd-483a-ccb7-1cf8ca9f6f6e"
      },
      "execution_count": null,
      "outputs": [
        {
          "output_type": "stream",
          "name": "stdout",
          "text": [
            "float64\n"
          ]
        }
      ]
    },
    {
      "cell_type": "code",
      "source": [
        "x=np.array([[1,2],[11,22]])\n",
        "y=np.array([[22,33],[44,55]])\n",
        "print(x)\n",
        "print(y)\n",
        "\n",
        "print(\"La suma\")\n",
        "print(np.add(x,y))\n",
        "print(\"La resta\")\n",
        "print(np.subtract(x,y))\n",
        "print(\"multiplicación\")\n",
        "print(np.multiply(x,y))\n",
        "print(\"División\")\n",
        "print(np.divide(x,y))\n",
        "print(\"raiz cuadrada\")\n",
        "print(np.sqrt(x))"
      ],
      "metadata": {
        "colab": {
          "base_uri": "https://localhost:8080/"
        },
        "id": "jaKB3MdUPHuD",
        "outputId": "751e5bc8-4e2f-4514-d369-b99ea06aef66"
      },
      "execution_count": null,
      "outputs": [
        {
          "output_type": "stream",
          "name": "stdout",
          "text": [
            "[[ 1  2]\n",
            " [11 22]]\n",
            "[[22 33]\n",
            " [44 55]]\n",
            "La suma\n",
            "[[23 35]\n",
            " [55 77]]\n",
            "La resta\n",
            "[[-21 -31]\n",
            " [-33 -33]]\n",
            "multiplicación\n",
            "[[  22   66]\n",
            " [ 484 1210]]\n",
            "División\n",
            "[[0.04545455 0.06060606]\n",
            " [0.25       0.4       ]]\n",
            "raiz cuadrada\n",
            "[[1.         1.41421356]\n",
            " [3.31662479 4.69041576]]\n"
          ]
        }
      ]
    },
    {
      "cell_type": "code",
      "source": [
        "tmp1=np.random.randint(1,10, (2,5))\n",
        "print(tmp1)\n",
        "#promedio\n",
        "aux = tmp1.mean()\n",
        "print(aux)"
      ],
      "metadata": {
        "colab": {
          "base_uri": "https://localhost:8080/"
        },
        "id": "udCAWcWVQbzz",
        "outputId": "1bf43999-6883-4461-8bd5-8c26e9e2a61a"
      },
      "execution_count": null,
      "outputs": [
        {
          "output_type": "stream",
          "name": "stdout",
          "text": [
            "[[6 5 9 9 1]\n",
            " [6 2 4 5 9]]\n",
            "5.6\n"
          ]
        }
      ]
    },
    {
      "cell_type": "code",
      "source": [
        "print(tmp1.mean(axis=1))\n",
        "print(tmp1.mean(axis=0))"
      ],
      "metadata": {
        "colab": {
          "base_uri": "https://localhost:8080/"
        },
        "id": "FH-a5kx3Q2TT",
        "outputId": "fd761343-0300-4b38-daec-1d7558179021"
      },
      "execution_count": null,
      "outputs": [
        {
          "output_type": "stream",
          "name": "stdout",
          "text": [
            "[6.  5.2]\n",
            "[6.  3.5 6.5 7.  5. ]\n"
          ]
        }
      ]
    },
    {
      "cell_type": "markdown",
      "source": [
        "2 Julio"
      ],
      "metadata": {
        "id": "Oh8N9l_D4uLa"
      }
    },
    {
      "cell_type": "code",
      "source": [
        "import numpy as np\n",
        "a=np.random.randint(1,10,(3,4))\n",
        "print(a)\n",
        "tmp=np.mean(a)\n",
        "print(tmp)\n",
        "print(a.mean())\n",
        "tmp=a.mean(axis=1)\n",
        "print(tmp)\n",
        "\n",
        "aux=a.sum()\n",
        "print(aux)\n",
        "medianValue=np.median(a,axis=1)\n",
        "print(medianValue)"
      ],
      "metadata": {
        "colab": {
          "base_uri": "https://localhost:8080/"
        },
        "id": "fS2plIgO4wRs",
        "outputId": "a76b073a-a155-4ac1-931c-109d2e49dabf"
      },
      "execution_count": null,
      "outputs": [
        {
          "output_type": "stream",
          "name": "stdout",
          "text": [
            "[[3 8 4 8]\n",
            " [6 1 1 2]\n",
            " [2 1 7 1]]\n",
            "3.6666666666666665\n",
            "3.6666666666666665\n",
            "[5.75 2.5  2.75]\n",
            "44\n",
            "[6.  1.5 1.5]\n"
          ]
        }
      ]
    },
    {
      "cell_type": "code",
      "source": [
        "#SORTING\n",
        "b=np.random.randn(10)\n",
        "print(b)\n",
        "print(b.shape)\n",
        "b.sort()\n",
        "print(b)"
      ],
      "metadata": {
        "colab": {
          "base_uri": "https://localhost:8080/"
        },
        "id": "9YJHUgnt41Q5",
        "outputId": "496ead2d-c68d-451b-fb49-d808da24c4ab"
      },
      "execution_count": null,
      "outputs": [
        {
          "output_type": "stream",
          "name": "stdout",
          "text": [
            "[-1.04005887  0.18763491 -0.48182024 -0.31875392 -0.04906247 -0.93234047\n",
            "  1.29439689 -1.24375462 -1.49127014 -0.74100984]\n",
            "(10,)\n",
            "[-1.49127014 -1.24375462 -1.04005887 -0.93234047 -0.74100984 -0.48182024\n",
            " -0.31875392 -0.04906247  0.18763491  1.29439689]\n"
          ]
        }
      ]
    },
    {
      "cell_type": "code",
      "source": [
        "c=np.array([2,3,4,2,5,3,5])\n",
        "print(np.unique(c))"
      ],
      "metadata": {
        "colab": {
          "base_uri": "https://localhost:8080/"
        },
        "id": "p-5T4lQr45cX",
        "outputId": "776356b1-db1b-47ba-c05f-ea0e18ebef54"
      },
      "execution_count": null,
      "outputs": [
        {
          "output_type": "stream",
          "name": "stdout",
          "text": [
            "[2 3 4 5]\n"
          ]
        }
      ]
    },
    {
      "cell_type": "code",
      "source": [
        "string1=np.array(['desk','chair','bulb'])\n",
        "string2=np.array(['lamp','bulb','chair'])\n",
        "\n",
        "tmp1=np.intersect1d(string1,string2)\n",
        "print(tmp1)\n",
        "tmp2=np.union1d(string1,string2)\n",
        "print(tmp2)\n",
        "tmp3=np.setdiff1d(string1,string2)\n",
        "print(tmp3)\n",
        "tmp4=np.in1d(string1,string2)\n",
        "print(tmp4)"
      ],
      "metadata": {
        "colab": {
          "base_uri": "https://localhost:8080/"
        },
        "id": "Jm3yzB5_48yD",
        "outputId": "ebb6818f-5351-4c5b-fd9b-a62b5549fc14"
      },
      "execution_count": null,
      "outputs": [
        {
          "output_type": "stream",
          "name": "stdout",
          "text": [
            "['bulb' 'chair']\n",
            "['bulb' 'chair' 'desk' 'lamp']\n",
            "['desk']\n",
            "[False  True  True]\n"
          ]
        }
      ]
    },
    {
      "cell_type": "code",
      "source": [
        "#BROADCASTING\n",
        "\n",
        "aux=np.zeros((4,3))\n",
        "print(aux)\n",
        "replicate=np.array([1,2,1])\n",
        "aux=aux+replicate\n",
        "print(aux)\n",
        "\n",
        "replicateCol=np.array([10,10,10])\n",
        "print(replicateCol.shape)\n",
        "replicateCol=np.reshape(replicateCol,(3,1))\n",
        "print(replicateCol.shape)\n",
        "aux=np.zeros((3,3))\n",
        "aux1=replicateCol+aux\n",
        "print(aux1)\n",
        "\n",
        "print('we are here.........')\n",
        "vector=np.array([45])\n",
        "matrixZeros=np.zeros((5,5))\n",
        "print(matrixZeros)\n",
        "print(matrixZeros+vector)"
      ],
      "metadata": {
        "colab": {
          "base_uri": "https://localhost:8080/"
        },
        "id": "WR5G7Ejo5A32",
        "outputId": "66fe4e22-7258-4298-c238-dd23699a949e"
      },
      "execution_count": null,
      "outputs": [
        {
          "output_type": "stream",
          "name": "stdout",
          "text": [
            "[[0. 0. 0.]\n",
            " [0. 0. 0.]\n",
            " [0. 0. 0.]\n",
            " [0. 0. 0.]]\n",
            "[[1. 2. 1.]\n",
            " [1. 2. 1.]\n",
            " [1. 2. 1.]\n",
            " [1. 2. 1.]]\n",
            "(3,)\n",
            "(3, 1)\n",
            "[[10. 10. 10.]\n",
            " [10. 10. 10.]\n",
            " [10. 10. 10.]]\n",
            "we are here.........\n",
            "[[0. 0. 0. 0. 0.]\n",
            " [0. 0. 0. 0. 0.]\n",
            " [0. 0. 0. 0. 0.]\n",
            " [0. 0. 0. 0. 0.]\n",
            " [0. 0. 0. 0. 0.]]\n",
            "[[45. 45. 45. 45. 45.]\n",
            " [45. 45. 45. 45. 45.]\n",
            " [45. 45. 45. 45. 45.]\n",
            " [45. 45. 45. 45. 45.]\n",
            " [45. 45. 45. 45. 45.]]\n"
          ]
        }
      ]
    }
  ]
}