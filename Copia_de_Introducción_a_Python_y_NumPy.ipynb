{
  "nbformat": 4,
  "nbformat_minor": 0,
  "metadata": {
    "colab": {
      "provenance": [],
      "include_colab_link": true
    },
    "kernelspec": {
      "name": "python3",
      "display_name": "Python 3"
    },
    "language_info": {
      "name": "python"
    }
  },
  "cells": [
    {
      "cell_type": "markdown",
      "metadata": {
        "id": "view-in-github",
        "colab_type": "text"
      },
      "source": [
        "<a href=\"https://colab.research.google.com/github/andycruz22/InteligenciaArtificial/blob/main/Copia_de_Introducci%C3%B3n_a_Python_y_NumPy.ipynb\" target=\"_parent\"><img src=\"https://colab.research.google.com/assets/colab-badge.svg\" alt=\"Open In Colab\"/></a>"
      ]
    },
    {
      "cell_type": "code",
      "execution_count": null,
      "metadata": {
        "id": "mMjyh_Lh6Y_j",
        "colab": {
          "base_uri": "https://localhost:8080/"
        },
        "outputId": "9936c72a-046c-4e82-8d86-794274aac8f5"
      },
      "outputs": [
        {
          "output_type": "stream",
          "name": "stdout",
          "text": [
            "1.25.2\n"
          ]
        }
      ],
      "source": [
        "\n",
        "# Import numpy as np and see the version\n",
        "\n",
        "import numpy as np\n",
        "print(np.__version__)"
      ]
    },
    {
      "cell_type": "code",
      "source": [
        "# Create a 1D array of numbers from 0 to 9\n",
        "\n",
        "array = np.arange(10)\n",
        "print(array)"
      ],
      "metadata": {
        "colab": {
          "base_uri": "https://localhost:8080/"
        },
        "id": "2x7qvA8v9R57",
        "outputId": "26a43b58-7096-4341-da32-c494884e7e3b"
      },
      "execution_count": null,
      "outputs": [
        {
          "output_type": "stream",
          "name": "stdout",
          "text": [
            "[0 1 2 3 4 5 6 7 8 9]\n"
          ]
        }
      ]
    },
    {
      "cell_type": "code",
      "source": [
        "# Create random vector of size 10 and replace the maximum value by 0\n",
        "vector = np.random.rand(10)\n",
        "print(vector)\n",
        "\n",
        "print(\"\\nValor maximo cambiado a cero\")\n",
        "maximo = np.argmax(vector)\n",
        "vector[maximo] = 0\n",
        "print(vector)"
      ],
      "metadata": {
        "colab": {
          "base_uri": "https://localhost:8080/"
        },
        "id": "GGo5spEmA9Di",
        "outputId": "e3e0467f-3d6c-49ea-ec78-19465dc1b3c5"
      },
      "execution_count": null,
      "outputs": [
        {
          "output_type": "stream",
          "name": "stdout",
          "text": [
            "[0.75302045 0.70753619 0.09594492 0.49939357 0.52018506 0.37523815\n",
            " 0.23846818 0.06710877 0.9240106  0.96485005]\n",
            "\n",
            "Valor maximo cambiado a cero\n",
            "[0.75302045 0.70753619 0.09594492 0.49939357 0.52018506 0.37523815\n",
            " 0.23846818 0.06710877 0.9240106  0.        ]\n"
          ]
        }
      ]
    },
    {
      "cell_type": "code",
      "source": [
        "# Print the number 8 from the array below:\n",
        "arr = np.array([[1,2,3,4,5], [6,7,8,9,10]])\n",
        "print(arr[1, 2])"
      ],
      "metadata": {
        "colab": {
          "base_uri": "https://localhost:8080/"
        },
        "id": "_-hrhLMQESoX",
        "outputId": "5b17bb0d-0ef3-4ee7-87af-a4fc37252317"
      },
      "execution_count": null,
      "outputs": [
        {
          "output_type": "stream",
          "name": "stdout",
          "text": [
            "8\n"
          ]
        }
      ]
    },
    {
      "cell_type": "code",
      "source": [
        "# Print the numbers [3, 4, 5] from the array below:\n",
        "arr = np.array([1,2,3,4,5,6,7])\n",
        "print(arr[2:5])"
      ],
      "metadata": {
        "colab": {
          "base_uri": "https://localhost:8080/"
        },
        "id": "QL1T_cTtGJVx",
        "outputId": "0c806982-912e-4d24-f67a-7969840b0c30"
      },
      "execution_count": null,
      "outputs": [
        {
          "output_type": "stream",
          "name": "stdout",
          "text": [
            "[3 4 5]\n"
          ]
        }
      ]
    },
    {
      "cell_type": "code",
      "source": [
        "# Print the last 4 numbers from the array below:\n",
        "arr = np.array([1,2,3,4,5,6,7])\n",
        "print(arr[-4:])"
      ],
      "metadata": {
        "colab": {
          "base_uri": "https://localhost:8080/"
        },
        "id": "p083luIfGUoL",
        "outputId": "4ce59bbb-db78-4b91-9390-6aa9d5432870"
      },
      "execution_count": null,
      "outputs": [
        {
          "output_type": "stream",
          "name": "stdout",
          "text": [
            "[4 5 6 7]\n"
          ]
        }
      ]
    },
    {
      "cell_type": "code",
      "source": [
        "# Create a 3×3 numpy array of all True’s\n",
        "array = np.full((3, 3), True, dtype=bool)\n",
        "print(array)"
      ],
      "metadata": {
        "colab": {
          "base_uri": "https://localhost:8080/"
        },
        "id": "2STStKDJHM4c",
        "outputId": "212a2f8b-089c-46d6-8509-8adfef0b0cf4"
      },
      "execution_count": null,
      "outputs": [
        {
          "output_type": "stream",
          "name": "stdout",
          "text": [
            "[[ True  True  True]\n",
            " [ True  True  True]\n",
            " [ True  True  True]]\n"
          ]
        }
      ]
    },
    {
      "cell_type": "code",
      "source": [
        "# Extract all odd numbers from arr\n",
        "odd_numbers = arr[arr % 2 != 0]\n",
        "print(odd_numbers)"
      ],
      "metadata": {
        "colab": {
          "base_uri": "https://localhost:8080/"
        },
        "id": "KtaJ1qj9III9",
        "outputId": "108f1e92-88f1-4689-a8f4-4fc28f82815b"
      },
      "execution_count": null,
      "outputs": [
        {
          "output_type": "stream",
          "name": "stdout",
          "text": [
            "[1 3 5 7]\n"
          ]
        }
      ]
    },
    {
      "cell_type": "code",
      "source": [
        "# Create a vector with values ranging from 10 to 49 (★☆☆)\n",
        "vector = np.arange(10, 50)\n",
        "print(vector)"
      ],
      "metadata": {
        "colab": {
          "base_uri": "https://localhost:8080/"
        },
        "id": "y3gJq5qaImnk",
        "outputId": "b473070a-6eb9-4f48-eabb-819628062f29"
      },
      "execution_count": null,
      "outputs": [
        {
          "output_type": "stream",
          "name": "stdout",
          "text": [
            "[10 11 12 13 14 15 16 17 18 19 20 21 22 23 24 25 26 27 28 29 30 31 32 33\n",
            " 34 35 36 37 38 39 40 41 42 43 44 45 46 47 48 49]\n"
          ]
        }
      ]
    },
    {
      "cell_type": "code",
      "source": [
        "# Reverse a vector (first element becomes last)\n",
        "vector = np.array([1, 2, 3, 4, 5])\n",
        "vector_invertido = vector[::-1]\n",
        "print(vector_invertido)"
      ],
      "metadata": {
        "colab": {
          "base_uri": "https://localhost:8080/"
        },
        "id": "bRuhrUchI4mR",
        "outputId": "e8d287ab-dab3-4c47-dfff-0d31853b2603"
      },
      "execution_count": null,
      "outputs": [
        {
          "output_type": "stream",
          "name": "stdout",
          "text": [
            "[5 4 3 2 1]\n"
          ]
        }
      ]
    },
    {
      "cell_type": "code",
      "source": [
        "#  Create a 10x10 array with random integer values and find the minimum and maximum values\n",
        "matriz = np.random.randint(0, 51, size=(10, 10))\n",
        "\n",
        "valor_minimo = np.min(matriz)\n",
        "valor_maximo = np.max(matriz)\n",
        "\n",
        "print(\"Matriz:\")\n",
        "print(matriz)\n",
        "print(\"\\nValor mínimo:\", valor_minimo)\n",
        "print(\"Valor máximo:\", valor_maximo)"
      ],
      "metadata": {
        "colab": {
          "base_uri": "https://localhost:8080/"
        },
        "id": "OJiPn3l7Jvk1",
        "outputId": "bd93dce8-042f-4bbb-9ad2-e59fec729561"
      },
      "execution_count": null,
      "outputs": [
        {
          "output_type": "stream",
          "name": "stdout",
          "text": [
            "Matriz:\n",
            "[[24 15  3 41 47 44 10  8  6  7]\n",
            " [44  4 12 46 16 37 14 24  5 49]\n",
            " [ 1 27 44 37 36 36 36 50 37  0]\n",
            " [16 11 41  2 45 42 31 40 36  8]\n",
            " [10 36 49 40 45 10 16 16 30  4]\n",
            " [46 40 11 20 42 33 50 35 28 19]\n",
            " [18  5 28 14  6 11 22 15  9 24]\n",
            " [41 39 39 29 11  9 26 37 14 38]\n",
            " [45 37 50 23 29 40 17 14  5 14]\n",
            " [ 1 49 47 22 35  9 27 16 17 25]]\n",
            "\n",
            "Valor mínimo: 0\n",
            "Valor máximo: 50\n"
          ]
        }
      ]
    },
    {
      "cell_type": "code",
      "source": [
        "# Create a 3x3x3 array with random values\n",
        "array_3d = np.random.random((3, 3, 3))\n",
        "print(array_3d)"
      ],
      "metadata": {
        "colab": {
          "base_uri": "https://localhost:8080/"
        },
        "id": "awgODRX5KtkF",
        "outputId": "0ffc5757-7487-4c16-c6fc-fd75673680e5"
      },
      "execution_count": null,
      "outputs": [
        {
          "output_type": "stream",
          "name": "stdout",
          "text": [
            "[[[0.46984697 0.11875307 0.34826   ]\n",
            "  [0.77416623 0.61435375 0.35453776]\n",
            "  [0.21736308 0.39621003 0.13001151]]\n",
            "\n",
            " [[0.23631128 0.5444229  0.46874797]\n",
            "  [0.44549505 0.25984868 0.66487283]\n",
            "  [0.34610716 0.63700223 0.73119441]]\n",
            "\n",
            " [[0.36482589 0.65177984 0.94108687]\n",
            "  [0.1421145  0.05258151 0.84146925]\n",
            "  [0.01909081 0.89450534 0.20071112]]]\n"
          ]
        }
      ]
    },
    {
      "cell_type": "code",
      "source": [
        "# Replace all odd numbers in arr with -1\n",
        "arr[arr % 2 != 0] = -1\n",
        "print(arr)"
      ],
      "metadata": {
        "colab": {
          "base_uri": "https://localhost:8080/"
        },
        "id": "RjCixGgoLDtI",
        "outputId": "512679ec-cfef-449a-d106-114c79b1a477"
      },
      "execution_count": null,
      "outputs": [
        {
          "output_type": "stream",
          "name": "stdout",
          "text": [
            "[-1  2 -1  4 -1  6 -1]\n"
          ]
        }
      ]
    },
    {
      "cell_type": "code",
      "source": [
        "# Create an array of type float\n",
        "arr_float = np.array([1.5, 2.3, 3.1, 4.7, 5.5], dtype=float)\n",
        "\n",
        "print(arr_float)\n",
        "print(arr_float.dtype)"
      ],
      "metadata": {
        "colab": {
          "base_uri": "https://localhost:8080/"
        },
        "id": "R_yVz6rALaKG",
        "outputId": "af255998-b0f8-44e5-9b2b-b8817a31dced"
      },
      "execution_count": null,
      "outputs": [
        {
          "output_type": "stream",
          "name": "stdout",
          "text": [
            "[1.5 2.3 3.1 4.7 5.5]\n",
            "float64\n"
          ]
        }
      ]
    },
    {
      "cell_type": "code",
      "source": [
        "# Convert a 1D array to a 2D array with 2 rows\n",
        "arr_1d = np.array([1, 2, 3, 4, 5, 6])\n",
        "\n",
        "arr_2d = arr_1d.reshape(2, -1)\n",
        "\n",
        "print(\"Array 1D:\")\n",
        "print(arr_1d)\n",
        "print(\"\\nArray 2D con 2 filas:\")\n",
        "print(arr_2d)"
      ],
      "metadata": {
        "colab": {
          "base_uri": "https://localhost:8080/"
        },
        "id": "sPtiQnVDMVZL",
        "outputId": "6b1eeccf-70df-4ec1-efa8-91d7adfb3d1f"
      },
      "execution_count": null,
      "outputs": [
        {
          "output_type": "stream",
          "name": "stdout",
          "text": [
            "Array 1D:\n",
            "[1 2 3 4 5 6]\n",
            "\n",
            "Array 2D con 2 filas:\n",
            "[[1 2 3]\n",
            " [4 5 6]]\n"
          ]
        }
      ]
    },
    {
      "cell_type": "code",
      "source": [
        "# How to find common values between two arrays?\n",
        "\n",
        "Z1 = np.random.randint(0,10,10)\n",
        "Z2 = np.random.randint(0,10,10)\n",
        "\n",
        "valores_comunes = np.intersect1d(Z1, Z2)\n",
        "\n",
        "print(\"Z1:\", Z1)\n",
        "print(\"Z2:\", Z2)\n",
        "print(\"Valores comunes:\", valores_comunes)"
      ],
      "metadata": {
        "colab": {
          "base_uri": "https://localhost:8080/"
        },
        "id": "5YiE21L_M2Y2",
        "outputId": "f7cfa78d-42e7-4cfa-aee6-fd27d5979cb3"
      },
      "execution_count": null,
      "outputs": [
        {
          "output_type": "stream",
          "name": "stdout",
          "text": [
            "Z1: [7 1 0 1 8 8 6 6 6 0]\n",
            "Z2: [8 3 1 5 2 5 4 6 3 9]\n",
            "Valores comunes: [1 6 8]\n"
          ]
        }
      ]
    },
    {
      "cell_type": "code",
      "source": [
        "#  Consider two random array A and B, check if they are equal\n",
        "\n",
        "A = np.random.randint(0,2,5)\n",
        "B = np.random.randint(0,2,5)\n",
        "\n",
        "comparacion = np.array_equal(A, B)\n",
        "\n",
        "print(\"A:\", A)\n",
        "print(\"B:\", B)\n",
        "print(\"\\n¿Son iguales?:\", comparacion)"
      ],
      "metadata": {
        "colab": {
          "base_uri": "https://localhost:8080/"
        },
        "id": "m6VQvZsENTaE",
        "outputId": "d54e1240-cb6e-4d4d-9b80-eae63b792253"
      },
      "execution_count": null,
      "outputs": [
        {
          "output_type": "stream",
          "name": "stdout",
          "text": [
            "A: [1 0 0 0 1]\n",
            "B: [1 1 1 0 0]\n",
            "\n",
            "¿Son iguales?: False\n"
          ]
        }
      ]
    },
    {
      "cell_type": "code",
      "source": [
        "# Stack arrays a and b vertically\n",
        "vertical_A = np.vstack((A))\n",
        "vertical_B = np.vstack((B))\n",
        "\n",
        "apilado_v = np.array([[vertical_A],[vertical_B]])\n",
        "print(apilado_v)"
      ],
      "metadata": {
        "colab": {
          "base_uri": "https://localhost:8080/"
        },
        "id": "yB_QwtDCO2hZ",
        "outputId": "ce38527c-4ba3-4ea5-be03-bbbb7c87ee0b"
      },
      "execution_count": null,
      "outputs": [
        {
          "output_type": "stream",
          "name": "stdout",
          "text": [
            "[[[[1]\n",
            "   [0]\n",
            "   [0]\n",
            "   [0]\n",
            "   [1]]]\n",
            "\n",
            "\n",
            " [[[1]\n",
            "   [1]\n",
            "   [1]\n",
            "   [0]\n",
            "   [0]]]]\n"
          ]
        }
      ]
    },
    {
      "cell_type": "code",
      "source": [
        "# Stack the arrays a and b horizontally.\n",
        "horizontal_A = np.hstack((A))\n",
        "horizontal_B = np.hstack((B))\n",
        "\n",
        "apilado_h = np.array([[horizontal_A],[horizontal_B]])\n",
        "print(apilado_h)"
      ],
      "metadata": {
        "colab": {
          "base_uri": "https://localhost:8080/"
        },
        "id": "bc8GIjaqSies",
        "outputId": "5dec683b-f163-4aef-f2de-1d2f75751c34"
      },
      "execution_count": null,
      "outputs": [
        {
          "output_type": "stream",
          "name": "stdout",
          "text": [
            "[[[1 0 0 0 1]]\n",
            "\n",
            " [[1 1 1 0 0]]]\n"
          ]
        }
      ]
    },
    {
      "cell_type": "code",
      "source": [
        "# Get all items between 5 and 10 from array tmp.\n",
        "\n",
        "tmp = np.arange(15)\n",
        "resultado = tmp[(tmp >= 5) & (tmp <= 10)]\n",
        "\n",
        "print(tmp)\n",
        "print(\"\\nElementos entre 5 y 10:\", resultado)"
      ],
      "metadata": {
        "colab": {
          "base_uri": "https://localhost:8080/"
        },
        "id": "baOSSBWSTR0v",
        "outputId": "b1f5bbb1-e07a-4d5b-ac87-0caff817edda"
      },
      "execution_count": null,
      "outputs": [
        {
          "output_type": "stream",
          "name": "stdout",
          "text": [
            "[ 0  1  2  3  4  5  6  7  8  9 10 11 12 13 14]\n",
            "\n",
            "Elementos entre 5 y 10: [ 5  6  7  8  9 10]\n"
          ]
        }
      ]
    },
    {
      "cell_type": "code",
      "source": [
        "# How to make a python function that handles scalars to work on numpy arrays?\n",
        "# Hint\n",
        "# Desired Output:\n",
        "# a = np.array([5, 7, 9, 8, 6, 4, 5])\n",
        "# b = np.array([6, 3, 4, 8, 9, 7, 1])\n",
        "# pair_max(a, b)\n",
        "# #> array([ 6.,  7.,  9.,  8.,  9.,  7.,  5.])\n",
        "\n",
        "def maxx(x, y):\n",
        "    \"\"\"Get the maximum of two items\"\"\"\n",
        "    if x >= y:\n",
        "        return x\n",
        "    else:\n",
        "        return y\n",
        "\n",
        "# Vectorizar la función maxx\n",
        "pair_max = np.vectorize(maxx)\n",
        "\n",
        "a = np.array([5, 7, 9, 8, 6, 4, 5])\n",
        "b = np.array([6, 3, 4, 8, 9, 7, 1])\n",
        "\n",
        "resultado = pair_max(a, b)\n",
        "\n",
        "print(\"Array a:\", a)\n",
        "print(\"Array b:\", b)\n",
        "print(\"\\nResultado:\", resultado)"
      ],
      "metadata": {
        "colab": {
          "base_uri": "https://localhost:8080/"
        },
        "id": "YJsj-Hc9UH0f",
        "outputId": "cbec0521-4f9c-4b3b-c9fe-bcebcd37d966"
      },
      "execution_count": null,
      "outputs": [
        {
          "output_type": "stream",
          "name": "stdout",
          "text": [
            "Array a: [5 7 9 8 6 4 5]\n",
            "Array b: [6 3 4 8 9 7 1]\n",
            "\n",
            "Resultado: [6 7 9 8 9 7 5]\n"
          ]
        }
      ]
    },
    {
      "cell_type": "code",
      "source": [
        "# Swap columns 1 and 2 in the array arr.\n",
        "# Hint\n",
        "# Desired Output:\n",
        "# [[0 2 1]\n",
        "#  [3 5 4]\n",
        "#  [6 8 7]]\n",
        "\n",
        "arr = np.arange(9).reshape(3,3)\n",
        "print(arr)\n",
        "\n",
        "# Intercambiar columnas 1 y 2\n",
        "arr[:, [1, 2]] = arr[:, [2, 1]]\n",
        "\n",
        "print(\"\\nColumna 1 y 2 intercambiadas:\")\n",
        "print(arr)"
      ],
      "metadata": {
        "colab": {
          "base_uri": "https://localhost:8080/"
        },
        "id": "gcZ0Bvn0VeqO",
        "outputId": "fde238af-8a55-4018-d09c-97b151ca68c5"
      },
      "execution_count": null,
      "outputs": [
        {
          "output_type": "stream",
          "name": "stdout",
          "text": [
            "[[0 1 2]\n",
            " [3 4 5]\n",
            " [6 7 8]]\n",
            "\n",
            "Columna 1 y 2 intercambiadas:\n",
            "[[0 2 1]\n",
            " [3 5 4]\n",
            " [6 8 7]]\n"
          ]
        }
      ]
    },
    {
      "cell_type": "code",
      "source": [
        "# Create a 2D array of shape 5x3 to contain random decimal numbers between 5 and 10.\n",
        "# Hint\n",
        "# The desired Output should be like the following one:\n",
        "#  [[ 8.50061025  9.10531502  6.85867783]\n",
        "#   [ 9.76262069  9.87717411  7.13466701]\n",
        "#   [ 7.48966403  8.33409158  6.16808631]\n",
        "#   [ 7.75010551  9.94535696  5.27373226]\n",
        "#   [ 8.0850361   5.56165518  7.31244004]]\n",
        "\n",
        "\n",
        "array_2d = np.random.uniform(5, 10, size=(5, 3))\n",
        "\n",
        "print(array_2d)"
      ],
      "metadata": {
        "colab": {
          "base_uri": "https://localhost:8080/"
        },
        "id": "5ZdUSMUEWBeg",
        "outputId": "cbc21450-f337-43a5-f4d9-db263cd7efdd"
      },
      "execution_count": null,
      "outputs": [
        {
          "output_type": "stream",
          "name": "stdout",
          "text": [
            "[[7.02176982 8.53840558 5.72692721]\n",
            " [9.0716128  7.86119764 8.31972097]\n",
            " [7.07144604 5.72039858 8.00138348]\n",
            " [6.16505263 8.91508508 7.56715378]\n",
            " [6.44408856 6.76278673 6.14634262]]\n"
          ]
        }
      ]
    }
  ]
}