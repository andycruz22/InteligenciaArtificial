{
  "nbformat": 4,
  "nbformat_minor": 0,
  "metadata": {
    "colab": {
      "provenance": [],
      "include_colab_link": true
    },
    "kernelspec": {
      "name": "python3",
      "display_name": "Python 3"
    },
    "language_info": {
      "name": "python"
    }
  },
  "cells": [
    {
      "cell_type": "markdown",
      "metadata": {
        "id": "view-in-github",
        "colab_type": "text"
      },
      "source": [
        "<a href=\"https://colab.research.google.com/github/andycruz22/InteligenciaArtificial/blob/main/Andy_Cruz_de_NumPy_Exercises_for_Data_Analysis.ipynb\" target=\"_parent\"><img src=\"https://colab.research.google.com/assets/colab-badge.svg\" alt=\"Open In Colab\"/></a>"
      ]
    },
    {
      "cell_type": "markdown",
      "source": [
        "NumPy Exercises for Data Analysis"
      ],
      "metadata": {
        "id": "hSsi2_-klame"
      }
    },
    {
      "cell_type": "code",
      "source": [
        "# Import numpy as np and see the version\n",
        "\n",
        "# your code here\n",
        "import numpy as np\n",
        "print(np.__version__)"
      ],
      "metadata": {
        "id": "kuK4TNepldem",
        "outputId": "f0ad468c-ba33-4cca-b009-647a68440e81",
        "colab": {
          "base_uri": "https://localhost:8080/"
        }
      },
      "execution_count": 1,
      "outputs": [
        {
          "output_type": "stream",
          "name": "stdout",
          "text": [
            "1.25.2\n"
          ]
        }
      ]
    },
    {
      "cell_type": "code",
      "source": [
        "# Create a 1D array of numbers from 0 to 9\n",
        "array = np.arange(10)\n",
        "print(array)"
      ],
      "metadata": {
        "id": "hbYX-oMBlvS-",
        "outputId": "164b5df3-c3d3-435b-b7d9-ce14fe356b04",
        "colab": {
          "base_uri": "https://localhost:8080/"
        }
      },
      "execution_count": 2,
      "outputs": [
        {
          "output_type": "stream",
          "name": "stdout",
          "text": [
            "[0 1 2 3 4 5 6 7 8 9]\n"
          ]
        }
      ]
    },
    {
      "cell_type": "code",
      "source": [
        "# Create random vector of size 10 and replace the maximum value by 0\n",
        "vector = np.random.rand(10)\n",
        "print(vector)\n",
        "print(\"\\nValor max cambia a cero\")\n",
        "max = np.argmax(vector)\n",
        "vector[max] = 0\n",
        "print(vector)"
      ],
      "metadata": {
        "id": "HfsNmdvrwqsO",
        "outputId": "332c63a9-78f8-4e17-9f94-fb041472efd6",
        "colab": {
          "base_uri": "https://localhost:8080/"
        }
      },
      "execution_count": 3,
      "outputs": [
        {
          "output_type": "stream",
          "name": "stdout",
          "text": [
            "[0.44917288 0.78731779 0.67278951 0.48227719 0.90045473 0.52709128\n",
            " 0.75985674 0.3336025  0.48762142 0.6022339 ]\n",
            "\n",
            "Valor max cambia a cero\n",
            "[0.44917288 0.78731779 0.67278951 0.48227719 0.         0.52709128\n",
            " 0.75985674 0.3336025  0.48762142 0.6022339 ]\n"
          ]
        }
      ]
    },
    {
      "cell_type": "code",
      "source": [
        "# Print the number 8 from the array below:\n",
        "# arr = np.array([[1,2,3,4,5], [6,7,8,9,10]])\n",
        "arr = np.array([[1,2,3,4,5], [6,7,8,9,10]])\n",
        "print(arr[1, 2])"
      ],
      "metadata": {
        "id": "a9T-W3uUoqcE",
        "outputId": "60472a31-c1ce-4fd0-c9f4-651207e577cc",
        "colab": {
          "base_uri": "https://localhost:8080/"
        }
      },
      "execution_count": 4,
      "outputs": [
        {
          "output_type": "stream",
          "name": "stdout",
          "text": [
            "8\n"
          ]
        }
      ]
    },
    {
      "cell_type": "code",
      "source": [
        "# Print the numbers [3, 4, 5] from the array below:\n",
        "# arr = np.array([1,2,3,4,5,6,7])\n",
        "arr = np.array([1,2,3,4,5,6,7])\n",
        "print(arr[2:5])"
      ],
      "metadata": {
        "id": "PqvPijs8o2ub",
        "outputId": "e0c5c8d1-58b8-4b3b-a623-e86f4a4f6d74",
        "colab": {
          "base_uri": "https://localhost:8080/"
        }
      },
      "execution_count": 5,
      "outputs": [
        {
          "output_type": "stream",
          "name": "stdout",
          "text": [
            "[3 4 5]\n"
          ]
        }
      ]
    },
    {
      "cell_type": "code",
      "source": [
        "# Print the last 4 numbers from the array below:\n",
        "# arr = np.array([1,2,3,4,5,6,7])\n",
        "arr = np.array([1,2,3,4,5,6,7])\n",
        "print(arr[3:7])"
      ],
      "metadata": {
        "id": "H5iUCizHpk0L",
        "outputId": "c0e9816d-b848-43ac-b728-7b452da75c77",
        "colab": {
          "base_uri": "https://localhost:8080/"
        }
      },
      "execution_count": 6,
      "outputs": [
        {
          "output_type": "stream",
          "name": "stdout",
          "text": [
            "[4 5 6 7]\n"
          ]
        }
      ]
    },
    {
      "cell_type": "code",
      "source": [
        "# Create a 3×3 numpy array of all True’s\n",
        "# your code here\n",
        "array = np.full((3, 3), True, dtype=bool)\n",
        "print(array)"
      ],
      "metadata": {
        "id": "C9nBztXhl9NA",
        "outputId": "cbc2e457-bd36-4177-ae50-7a6c1044d2ad",
        "colab": {
          "base_uri": "https://localhost:8080/"
        }
      },
      "execution_count": 7,
      "outputs": [
        {
          "output_type": "stream",
          "name": "stdout",
          "text": [
            "[[ True  True  True]\n",
            " [ True  True  True]\n",
            " [ True  True  True]]\n"
          ]
        }
      ]
    },
    {
      "cell_type": "code",
      "source": [
        "# Extract all odd numbers from arr\n",
        "# your code here\n",
        "odd_numbers = arr[arr % 2 != 0]\n",
        "print(odd_numbers)"
      ],
      "metadata": {
        "id": "W18lqbBwmIhw",
        "outputId": "1432eb8d-5d38-48a7-8dd3-3b5c4a45ba43",
        "colab": {
          "base_uri": "https://localhost:8080/"
        }
      },
      "execution_count": 8,
      "outputs": [
        {
          "output_type": "stream",
          "name": "stdout",
          "text": [
            "[1 3 5 7]\n"
          ]
        }
      ]
    },
    {
      "cell_type": "code",
      "source": [
        "# Create a vector with values ranging from 10 to 49 (★☆☆)\n",
        "vect = np.arange(10, 50)\n",
        "print(vect)\n"
      ],
      "metadata": {
        "id": "hA9iXCAwr55v",
        "outputId": "31b2c452-17d5-47e0-87d9-acbdeb4be4c6",
        "colab": {
          "base_uri": "https://localhost:8080/"
        }
      },
      "execution_count": 9,
      "outputs": [
        {
          "output_type": "stream",
          "name": "stdout",
          "text": [
            "[10 11 12 13 14 15 16 17 18 19 20 21 22 23 24 25 26 27 28 29 30 31 32 33\n",
            " 34 35 36 37 38 39 40 41 42 43 44 45 46 47 48 49]\n"
          ]
        }
      ]
    },
    {
      "cell_type": "code",
      "source": [
        "# Reverse a vector (first element becomes last)\n",
        "vect = np.array([1, 2, 3, 4, 5])\n",
        "vect_invertido = vect[::-1]\n",
        "print(vect_invertido)"
      ],
      "metadata": {
        "id": "R-_IjeHyr83q",
        "outputId": "56954b1b-082f-44df-b26c-1ef679100465",
        "colab": {
          "base_uri": "https://localhost:8080/"
        }
      },
      "execution_count": 10,
      "outputs": [
        {
          "output_type": "stream",
          "name": "stdout",
          "text": [
            "[5 4 3 2 1]\n"
          ]
        }
      ]
    },
    {
      "cell_type": "code",
      "source": [
        "#  Create a 10x10 array with random integer values and find the minimum and maximum values\n",
        "matriz = np.random.randint(0, 51, size=(10, 10))\n",
        "valor_min = np.min(matriz)\n",
        "valor_max = np.max(matriz)\n",
        "print(\"Matriz:\")\n",
        "print(matriz)\n",
        "print(\"\\nValor min:\", valor_min)\n",
        "print(\"Valor max:\", valor_max)"
      ],
      "metadata": {
        "id": "rEWwl_weuq3B",
        "outputId": "74803cb6-1b03-496f-e510-e74890860ef3",
        "colab": {
          "base_uri": "https://localhost:8080/"
        }
      },
      "execution_count": 11,
      "outputs": [
        {
          "output_type": "stream",
          "name": "stdout",
          "text": [
            "Matriz:\n",
            "[[30 47  0 35 50 29 29 42 45 42]\n",
            " [ 8 31 28 49 41 38 38 21  2 22]\n",
            " [27 32 47 27 23 22 26 15 45 16]\n",
            " [32  0 20 46 44 38 44 50 23  9]\n",
            " [18 49 17 14 14 46 20  1 22  6]\n",
            " [41  1  1  7  0 45  0 21 29  5]\n",
            " [ 2 14 31 50 32  0  9 26  8 17]\n",
            " [39 36 14 35 37 14 29  3 12 13]\n",
            " [31  3 15  7 19 28  7 43  1  6]\n",
            " [37 11 39 34 48 10 47 20 30 20]]\n",
            "\n",
            "Valor min: 0\n",
            "Valor max: 50\n"
          ]
        }
      ]
    },
    {
      "cell_type": "code",
      "source": [
        "# Create a 3x3x3 array with random values\n",
        "array_3d = np.random.random((3, 3, 3))\n",
        "print(array_3d)"
      ],
      "metadata": {
        "id": "KFy17KsvvSql",
        "outputId": "68a5fbe2-f0e2-4874-c577-0a93633cc622",
        "colab": {
          "base_uri": "https://localhost:8080/"
        }
      },
      "execution_count": 12,
      "outputs": [
        {
          "output_type": "stream",
          "name": "stdout",
          "text": [
            "[[[0.34530472 0.12094518 0.67300301]\n",
            "  [0.17733627 0.87299706 0.30288412]\n",
            "  [0.237366   0.12913382 0.4152293 ]]\n",
            "\n",
            " [[0.99753732 0.48755847 0.81302873]\n",
            "  [0.49466746 0.77288314 0.39480059]\n",
            "  [0.15307729 0.71930877 0.59569085]]\n",
            "\n",
            " [[0.18224049 0.06286929 0.32737393]\n",
            "  [0.7906013  0.95462954 0.82735697]\n",
            "  [0.33578285 0.57802318 0.96738651]]]\n"
          ]
        }
      ]
    },
    {
      "cell_type": "code",
      "source": [
        "# Replace all odd numbers in arr with -1\n",
        "arr[arr % 2 != 0] = -1\n",
        "print(arr)"
      ],
      "metadata": {
        "id": "X7ol3alqmbNa",
        "outputId": "6fe2836c-b3a3-4bfc-cad9-23741229e484",
        "colab": {
          "base_uri": "https://localhost:8080/"
        }
      },
      "execution_count": 13,
      "outputs": [
        {
          "output_type": "stream",
          "name": "stdout",
          "text": [
            "[-1  2 -1  4 -1  6 -1]\n"
          ]
        }
      ]
    },
    {
      "cell_type": "code",
      "source": [
        "# Create an array of type float\n",
        "arr_float = np.array([1.0, 2.5, 3.7, 4.2], dtype = float)\n",
        "print(arr_float)\n",
        "print(arr_float.dtype)"
      ],
      "metadata": {
        "id": "GwdXYn9HqYTL",
        "outputId": "c5c12a35-142c-4b00-85a4-29f6341bf8c4",
        "colab": {
          "base_uri": "https://localhost:8080/"
        }
      },
      "execution_count": 14,
      "outputs": [
        {
          "output_type": "stream",
          "name": "stdout",
          "text": [
            "[1.  2.5 3.7 4.2]\n",
            "float64\n"
          ]
        }
      ]
    },
    {
      "cell_type": "code",
      "source": [
        "# Convert a 1D array to a 2D array with 2 rows\n",
        "arr_1d = np.array([1, 2, 3, 4, 5, 6])\n",
        "arr_2d = arr_1d.reshape(2, -1)\n",
        "print(\"Arr 1D:\")\n",
        "print(arr_1d)\n",
        "print(\"\\nArr 2D con 2 filas:\")\n",
        "print(arr_2d)"
      ],
      "metadata": {
        "id": "LvcL1lUYoPjN",
        "outputId": "511b0366-3dfb-4511-c045-88b9874d8bc0",
        "colab": {
          "base_uri": "https://localhost:8080/"
        }
      },
      "execution_count": 15,
      "outputs": [
        {
          "output_type": "stream",
          "name": "stdout",
          "text": [
            "Arr 1D:\n",
            "[1 2 3 4 5 6]\n",
            "\n",
            "Arr 2D con 2 filas:\n",
            "[[1 2 3]\n",
            " [4 5 6]]\n"
          ]
        }
      ]
    },
    {
      "cell_type": "code",
      "source": [
        "# How to find common values between two arrays?\n",
        "Z1 = np.random.randint(0,10,10)\n",
        "Z2 = np.random.randint(0,10,10)\n",
        "valores_comunes = np.intersect1d(Z1, Z2)\n",
        "print(\"Z1:\", Z1)\n",
        "print(\"Z2:\", Z2)\n",
        "print(\"Valores comunes:\", valores_comunes)"
      ],
      "metadata": {
        "id": "VbzMDKQvv0DX",
        "outputId": "7c2a7eac-9ffd-436b-e048-47f45901f4a7",
        "colab": {
          "base_uri": "https://localhost:8080/"
        }
      },
      "execution_count": 16,
      "outputs": [
        {
          "output_type": "stream",
          "name": "stdout",
          "text": [
            "Z1: [0 0 6 6 3 5 2 6 5 6]\n",
            "Z2: [2 1 2 2 5 2 1 4 7 1]\n",
            "Valores comunes: [2 5]\n"
          ]
        }
      ]
    },
    {
      "cell_type": "code",
      "source": [
        "#  Consider two random array A and B, check if they are equal\n",
        "A = np.random.randint(0,2,5)\n",
        "B = np.random.randint(0,2,5)\n",
        "comp = np.array_equal(A, B)\n",
        "print(\"A:\", A)\n",
        "print(\"B:\", B)\n",
        "print(\"\\n¿Son iguales?:\", comp)\n",
        "\n"
      ],
      "metadata": {
        "id": "RWWspnDAwWGV",
        "outputId": "56455bd6-2cf8-43ed-fcab-caf5dbdfb0c3",
        "colab": {
          "base_uri": "https://localhost:8080/"
        }
      },
      "execution_count": 17,
      "outputs": [
        {
          "output_type": "stream",
          "name": "stdout",
          "text": [
            "A: [1 0 1 1 1]\n",
            "B: [0 1 0 0 0]\n",
            "\n",
            "¿Son iguales?: False\n"
          ]
        }
      ]
    },
    {
      "cell_type": "code",
      "source": [
        "# Stack arrays a and b vertically\n",
        "vertical_A = np.vstack((A))\n",
        "vertical_B = np.vstack((B))\n",
        "apilado_v = np.array([[vertical_A],[vertical_B]])\n",
        "print(apilado_v)"
      ],
      "metadata": {
        "id": "SW3KvPXhoeie",
        "outputId": "9c17f5d9-93bc-485a-a97d-4a46c6a914f7",
        "colab": {
          "base_uri": "https://localhost:8080/"
        }
      },
      "execution_count": 18,
      "outputs": [
        {
          "output_type": "stream",
          "name": "stdout",
          "text": [
            "[[[[1]\n",
            "   [0]\n",
            "   [1]\n",
            "   [1]\n",
            "   [1]]]\n",
            "\n",
            "\n",
            " [[[0]\n",
            "   [1]\n",
            "   [0]\n",
            "   [0]\n",
            "   [0]]]]\n"
          ]
        }
      ]
    },
    {
      "cell_type": "code",
      "source": [
        "# Stack the arrays a and b horizontally.\n",
        "hori_A = np.hstack((A))\n",
        "hori_B = np.hstack((B))\n",
        "xd = np.array([[hori_A],[hori_B]])\n",
        "print(xd)"
      ],
      "metadata": {
        "id": "6wVOpIT9omwe",
        "outputId": "7f927241-2392-4f21-b065-d6443d1d6bd4",
        "colab": {
          "base_uri": "https://localhost:8080/"
        }
      },
      "execution_count": 19,
      "outputs": [
        {
          "output_type": "stream",
          "name": "stdout",
          "text": [
            "[[[1 0 1 1 1]]\n",
            "\n",
            " [[0 1 0 0 0]]]\n"
          ]
        }
      ]
    },
    {
      "cell_type": "code",
      "source": [
        "# Get all items between 5 and 10 from array tmp.\n",
        "tmp = np.arange(15)\n",
        "resultado = tmp[(tmp >= 5) & (tmp <= 10)]\n",
        "print(tmp)\n",
        "print(\"\\nElementos entre 5 y 10:\", resultado)"
      ],
      "metadata": {
        "id": "L_7vMkGOo0gX",
        "outputId": "e261980c-b2b2-4ebe-fb9a-1abef5cf0da6",
        "colab": {
          "base_uri": "https://localhost:8080/"
        }
      },
      "execution_count": 20,
      "outputs": [
        {
          "output_type": "stream",
          "name": "stdout",
          "text": [
            "[ 0  1  2  3  4  5  6  7  8  9 10 11 12 13 14]\n",
            "\n",
            "Elementos entre 5 y 10: [ 5  6  7  8  9 10]\n"
          ]
        }
      ]
    },
    {
      "cell_type": "code",
      "source": [
        "# How to make a python function that handles scalars to work on numpy arrays?\n",
        "# Hint\n",
        "# Desired Output:\n",
        "# a = np.array([5, 7, 9, 8, 6, 4, 5])\n",
        "# b = np.array([6, 3, 4, 8, 9, 7, 1])\n",
        "# pair_max(a, b)\n",
        "# #> array([ 6.,  7.,  9.,  8.,  9.,  7.,  5.])\n",
        "\n",
        "def maxx(x, y):\n",
        "    \"\"\"Get the maximum of two items\"\"\"\n",
        "    if x >= y:\n",
        "        return x\n",
        "    else:\n",
        "        return y\n",
        "# Vectorizar la función maxx\n",
        "pair_max = np.vectorize(maxx)\n",
        "a = np.array([5, 7, 9, 8, 6, 4, 5])\n",
        "b = np.array([6, 3, 4, 8, 9, 7, 1])\n",
        "result = pair_max(a, b)\n",
        "print(\"Arr a:\", a)\n",
        "print(\"Arr b:\", b)\n",
        "print(\"\\nResultado:\", result)\n"
      ],
      "metadata": {
        "colab": {
          "base_uri": "https://localhost:8080/"
        },
        "id": "FVZz6ZY0p9ya",
        "outputId": "52f7073d-c2ee-4794-e404-1854146ae7da"
      },
      "execution_count": 21,
      "outputs": [
        {
          "output_type": "stream",
          "name": "stdout",
          "text": [
            "Arr a: [5 7 9 8 6 4 5]\n",
            "Arr b: [6 3 4 8 9 7 1]\n",
            "\n",
            "Resultado: [6 7 9 8 9 7 5]\n"
          ]
        }
      ]
    },
    {
      "cell_type": "code",
      "source": [
        "# Swap columns 1 and 2 in the array arr.\n",
        "# Hint\n",
        "# Desired Output:\n",
        "# [[0 2 1]\n",
        "#  [3 5 4]\n",
        "#  [6 8 7]]\n",
        "arr = np.arange(9).reshape(3,3)\n",
        "print(arr)\n",
        "# Intercambiar columnas 1 y 2\n",
        "arr[:, [1, 2]] = arr[:, [2, 1]]\n",
        "print(\"\\nColumna 1 y 2 intercambiados:\")\n",
        "print(arr)\n"
      ],
      "metadata": {
        "colab": {
          "base_uri": "https://localhost:8080/"
        },
        "outputId": "dfd716e0-7437-43d0-d1d6-eb5cb1a2ef62",
        "id": "8vIzM5e8ql6i"
      },
      "execution_count": 22,
      "outputs": [
        {
          "output_type": "stream",
          "name": "stdout",
          "text": [
            "[[0 1 2]\n",
            " [3 4 5]\n",
            " [6 7 8]]\n",
            "\n",
            "Columna 1 y 2 intercambiados:\n",
            "[[0 2 1]\n",
            " [3 5 4]\n",
            " [6 8 7]]\n"
          ]
        }
      ]
    },
    {
      "cell_type": "code",
      "source": [
        "# Create a 2D array of shape 5x3 to contain random decimal numbers between 5 and 10.\n",
        "# Hint\n",
        "# The desired Output should be like the following one:\n",
        "#  [[ 8.50061025  9.10531502  6.85867783]\n",
        "#   [ 9.76262069  9.87717411  7.13466701]\n",
        "#   [ 7.48966403  8.33409158  6.16808631]\n",
        "#   [ 7.75010551  9.94535696  5.27373226]\n",
        "#   [ 8.0850361   5.56165518  7.31244004]]\n",
        "array_2d = np.random.uniform(5, 10, size=(5, 3))\n",
        "print(array_2d)"
      ],
      "metadata": {
        "id": "FOXX5b17rY7E",
        "outputId": "cb4fa6c7-7826-43fb-8fe4-a0bbe9a8be75",
        "colab": {
          "base_uri": "https://localhost:8080/"
        }
      },
      "execution_count": 23,
      "outputs": [
        {
          "output_type": "stream",
          "name": "stdout",
          "text": [
            "[[7.76776994 7.57282702 5.50402395]\n",
            " [9.4204306  9.15639967 9.17327441]\n",
            " [5.3733287  7.83253276 7.88113829]\n",
            " [8.82069364 9.08135334 5.9634226 ]\n",
            " [6.02860002 8.85135546 9.7320673 ]]\n"
          ]
        }
      ]
    }
  ]
}